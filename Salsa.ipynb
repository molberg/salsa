{
 "metadata": {
  "name": ""
 },
 "nbformat": 3,
 "nbformat_minor": 0,
 "worksheets": [
  {
   "cells": [
    {
     "cell_type": "markdown",
     "metadata": {},
     "source": [
      "A quick demonstration of how to use ipython to read and display **SALSA** data.\n",
      "\n",
      "We start by importing a number of python modules:\n",
      " * *numpy* to handle the frequency, velocity and data vectors\n",
      " * *pandas* to treat the collection of spectrum headers as a data frame\n",
      " * *matplot* lib for plotting\n",
      " * finally, we use the support for FITS in *astropy* to read our FITS-files"
     ]
    },
    {
     "cell_type": "code",
     "collapsed": false,
     "input": [
      "%matplotlib inline"
     ],
     "language": "python",
     "metadata": {},
     "outputs": []
    },
    {
     "cell_type": "code",
     "collapsed": false,
     "input": [
      "import numpy as np\n",
      "import pandas as pd\n",
      "import matplotlib.pyplot as plt\n",
      "from astropy.io import fits"
     ],
     "language": "python",
     "metadata": {},
     "outputs": []
    },
    {
     "cell_type": "markdown",
     "metadata": {},
     "source": [
      "Define MHz [Hz] and the speed of light [km/s]:"
     ]
    },
    {
     "cell_type": "code",
     "collapsed": false,
     "input": [
      "MHz = 1.0e6\n",
      "c_kms = 2.99792458e5"
     ],
     "language": "python",
     "metadata": {},
     "outputs": []
    },
    {
     "cell_type": "markdown",
     "metadata": {},
     "source": [
      "Let's see what FITS files we have in our FITS subdirectory:"
     ]
    },
    {
     "cell_type": "code",
     "collapsed": false,
     "input": [
      "!ls FITS"
     ],
     "language": "python",
     "metadata": {},
     "outputs": []
    },
    {
     "cell_type": "markdown",
     "metadata": {},
     "source": [
      "The data we are looking at have serial numbers 1909...1937:"
     ]
    },
    {
     "cell_type": "code",
     "collapsed": false,
     "input": [
      "ids = range(1909, 1937+1)"
     ],
     "language": "python",
     "metadata": {},
     "outputs": []
    },
    {
     "cell_type": "markdown",
     "metadata": {},
     "source": [
      "Now prepare empty frequency and data vectors, as well as a data frame with all zeros."
     ]
    },
    {
     "cell_type": "code",
     "collapsed": false,
     "input": [
      "ns = len(ids)\n",
      "freq = np.zeros((256,ns))\n",
      "data = np.zeros((256,ns))\n",
      "head = pd.DataFrame({'LII':[0.0]*ns, 'BII':[0.0]*ns, 'f0':[0.0]*ns, 'v_lsr':[0.0]*ns, 'dt':[0.0]*ns})"
     ],
     "language": "python",
     "metadata": {},
     "outputs": []
    },
    {
     "cell_type": "markdown",
     "metadata": {},
     "source": [
      "We loop over our serial numbers, open the corresponding FITS-file and retrieve the relevant header and data information. We print the FITS file names while we are doing this:"
     ]
    },
    {
     "cell_type": "code",
     "collapsed": false,
     "input": [
      "for i in ids:\n",
      "    fitsfile = \"FITS/spectrum_%d.fits\" % (i)\n",
      "    print fitsfile\n",
      "    hdulist = fits.open(fitsfile)\n",
      "    hdr = hdulist[0].header\n",
      "    ic = i-ids[0]\n",
      "    off = np.arange(hdr['NAXIS1'])+1-hdr['CRPIX1']\n",
      "    freq[:,ic] = (hdr['CRVAL1']+off)/MHz\n",
      "    bzero = hdr['BZERO']\n",
      "    bscale = hdr['BSCALE']\n",
      "    d = hdulist[0].data[0,0,:]*bscale+bzero\n",
      "    data[:,ic] = d\n",
      "    onx = hdr['CRVAL2']\n",
      "    ony = hdr['CRVAL3']\n",
      "    dt = hdr['OBSTIME']\n",
      "    f0 = hdr['CRVAL1']/MHz\n",
      "    fr = hdr['RESTFREQ']/MHz\n",
      "    df = hdr['CDELT1']\n",
      "    vs = hdr['VELO-LSR']\n",
      "    tstamp = hdr['DATE-OBS']\n",
      "    head['LII'][ic] = onx\n",
      "    head['BII'][ic] = ony\n",
      "    head['f0'][ic] = f0\n",
      "    head['v_lsr'][ic] = vs\n",
      "    head['dt'][ic] = dt"
     ],
     "language": "python",
     "metadata": {},
     "outputs": []
    },
    {
     "cell_type": "markdown",
     "metadata": {},
     "source": [
      "Print our header data frame, but in galactic longitude order:"
     ]
    },
    {
     "cell_type": "code",
     "collapsed": false,
     "input": [
      "print head.sort('LII')"
     ],
     "language": "python",
     "metadata": {},
     "outputs": []
    },
    {
     "cell_type": "markdown",
     "metadata": {},
     "source": [
      "Finally, we plot our spectra in galactic longitude order, adding multiples of 10.0 to each so they look stacked in the final plot."
     ]
    },
    {
     "cell_type": "code",
     "collapsed": true,
     "input": [
      "dT = 0.0\n",
      "for i in head.sort('LII').index:\n",
      "    dv = -df/head['f0'][i]*c_kms/MHz\n",
      "    v = dv*off-vs\n",
      "    d = data[:,i] + dT\n",
      "    plt.plot(v, d)\n",
      "    plt.xlabel(\"velocity [km/s]\")\n",
      "    dT = dT + 10.0\n",
      "plt.grid(True)\n",
      "plt.show()"
     ],
     "language": "python",
     "metadata": {},
     "outputs": []
    },
    {
     "cell_type": "code",
     "collapsed": true,
     "input": [],
     "language": "python",
     "metadata": {},
     "outputs": []
    }
   ],
   "metadata": {}
  }
 ]
}